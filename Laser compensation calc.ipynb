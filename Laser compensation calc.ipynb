{
 "cells": [
  {
   "cell_type": "code",
   "execution_count": 258,
   "metadata": {},
   "outputs": [
    {
     "data": {
      "text/plain": [
       "\"\\nplt.plot(d3_mas, res_subs, label='Solutions')\\nplt.legend()\\nplt.show()\\n\""
      ]
     },
     "execution_count": 258,
     "metadata": {},
     "output_type": "execute_result"
    }
   ],
   "source": [
    "from sympy import *\n",
    "import cmath\n",
    "import math\n",
    "import numpy as np\n",
    "import matplotlib.pyplot as plt\n",
    "\n",
    "PI = cmath.pi\n",
    "i = complex(0, 1)\n",
    "tetha_SPR = math.radians(50)            # degrees\n",
    "calc_wl = 400e-9                        # metres\n",
    "\n",
    "n = [1.00027, 1.54, 0.05, 2.756, 1.786] # Лист показателей преломления:  0 - AIR\n",
    "#n = [1.00027, 1.53, 0.05, 2.863, 1.755]                               # 1 - GLASS (~BK7)\n",
    "                                                                       # 2 - SILVER (Ag) (n_Mi)\n",
    "                                                                       # 3 - Compensator (Fe2O3)\n",
    "                                                                       # 4 - Decompensator (Al2O3)\n",
    "eps = [1, 2.247, -15.243, 14.2, 0] # Лист диэлектрических проницаемостей:  0 - AIR\n",
    "                                                                       # 1 - GLASS (~BK7)\n",
    "                                                                       # 2 - SILVER (Ag) (n_Mi)\n",
    "                                                                       # 3 - Compensator (Fe2O3)\n",
    "                                                                       # 4 - Decompensator (Al2O3)\n",
    "miu = [1, 1, 1, 1, 1] # Лист магнитных проницаемостей:  0 - AIR\n",
    "                                                                        # 1 - GLASS (~BK7)\n",
    "                                                                        # 2 - SILVER (Ag) (n_Mi)\n",
    "                                                                        # 3 - Compensator (Fe2O3)\n",
    "                                                                        # 4 - Decompensator (Al2O3)\n",
    "d = [0, 5e-2, 50e-9, 50.34e-9, 50.9e-9]      # Толщины слоев:                  0 - AIR\n",
    "                                                                        # 1 - GLASS (~BK7)\n",
    "                                                                        # 2 - SILVER (Ag) (n_Mi)\n",
    "                                                                        # 3 - Compensator (Fe2O3)\n",
    "                                                                        # 4 - Decompensator (Al2O3)\n",
    "a, b, step = 450, 600, 5\n",
    "d3_mas = np.array(range(a, b, step))\n",
    "d3_mas = d3_mas * 10**-10\n",
    "\n",
    "theta_mas = np.array(range(60, 200)) / 100\n",
    "\n",
    "teta_res, n1, n2, n3, n4, n5, eps1, eps2, eps3, eps4, eps5, wl, d1, d2, d3, d4, d5 = symbols('teta_res n1 n2 n3 n4 n5 eps1 eps2 eps3 eps4 eps5 wl d1 d2 d3 d4 d5')\n",
    "\n",
    "q1 = ((eps1-(n1**2)*(sin(teta_res)**2))**(1/2))/eps1\n",
    "q2 = ((eps2-(n1**2)*(sin(teta_res)**2))**(1/2))/eps2\n",
    "q3 = ((eps3-(n1**2)*(sin(teta_res)**2))**(1/2))/eps3\n",
    "q4 = ((eps4-(n1**2)*(sin(teta_res)**2))**(1/2))/eps4\n",
    "q5 = ((eps5-(n1**2)*(sin(teta_res)**2))**(1/2))/eps5\n",
    "\n",
    "beta1 = (2*PI*d1/wl)*sqrt(eps1 - (n1**2)*sin(teta_res)**2)\n",
    "beta2 = (2*PI*d2/wl)*sqrt(eps2 - (n1**2)*sin(teta_res)**2)\n",
    "beta3 = (2*PI*d3/wl)*sqrt(eps3 - (n1**2)*sin(teta_res)**2)\n",
    "beta4 = (2*PI*d4/wl)*sqrt(eps4 - (n1**2)*sin(teta_res)**2)\n",
    "beta5 = (2*PI*d5/wl)*sqrt(eps5 - (n1**2)*sin(teta_res)**2)\n",
    "\n",
    "M2 = Matrix([[cos(beta2), -i*sin(beta2/q2)], [-i*q2*sin(beta2), cos(beta2)]])\n",
    "M3 = Matrix([[cos(beta3), -i*sin(beta3/q3)], [-i*q3*sin(beta3), cos(beta3)]])\n",
    "M4 = Matrix([[cos(beta4), -i*sin(beta4/q4)], [-i*q4*sin(beta4), cos(beta4)]])\n",
    "\n",
    "M = M2 * M3 * M4\n",
    "\n",
    "M11 = M.row(0)[0]\n",
    "M12 = M.row(0)[1]\n",
    "M21 = M.row(1)[0]\n",
    "M22 = M.row(1)[0]\n",
    "\n",
    "# Пусть знаменатель reflectivity coeffitient = 0\n",
    "\n",
    "res = Eq((M11 + M12*q5)*q1 - (M21 + M22*q5), 0)\n",
    "T = (M11 + M12*q5)*q1 - (M21 + M22*q5) / (M11 + M12*q5)*q1 + (M21 + M22*q5)\n",
    "#ress=simplify(res)\n",
    "#res = solve(res, d3)\n",
    "# Примем что магнитная проницаемость во всех веществах равна 1, тогда eps = n**2\n",
    "\n",
    "res_subs = []\n",
    "for i in range(len(theta_mas)):\n",
    "    res_subs.append(abs(T.subs([(n1, n[1]), (eps1, eps[1]), (eps2, eps[2]), (eps3, eps[3]), (eps4, n[4]**2), (eps5, eps[0]), (d2, d[2]), (d4, d[4]), (teta_res, theta_mas[i]), (wl, calc_wl), (d3, d[3])])) ** 2)\n",
    "# print(res_subs)\n",
    "\n",
    "# res1 = solve(res_subs, d3)\n",
    "# print(res1)\n",
    "# res_min = min(res_subs)\n",
    "'''\n",
    "plt.plot(d3_mas, res_subs, label='Solutions')\n",
    "plt.legend()\n",
    "plt.show()\n",
    "'''\n"
   ]
  },
  {
   "cell_type": "code",
   "execution_count": 259,
   "metadata": {},
   "outputs": [],
   "source": [
    "import pandas as pd\n",
    "\n",
    "data = pd.DataFrame({'d3': theta_mas, 'res': res_subs})"
   ]
  },
  {
   "cell_type": "code",
   "execution_count": 260,
   "metadata": {},
   "outputs": [],
   "source": [
    "data['min'] = data['res'].min()"
   ]
  },
  {
   "cell_type": "code",
   "execution_count": 261,
   "metadata": {},
   "outputs": [
    {
     "data": {
      "text/plain": [
       "83    1.43\n",
       "Name: d3, dtype: float64"
      ]
     },
     "execution_count": 261,
     "metadata": {},
     "output_type": "execute_result"
    }
   ],
   "source": [
    "data['d3'][data['res']==r1]"
   ]
  },
  {
   "cell_type": "code",
   "execution_count": 262,
   "metadata": {},
   "outputs": [
    {
     "data": {
      "text/plain": [
       "[<matplotlib.lines.Line2D at 0x12e6a3f10>]"
      ]
     },
     "execution_count": 262,
     "metadata": {},
     "output_type": "execute_result"
    },
    {
     "data": {
      "image/png": "[encoded data removed]",
      "text/plain": [
       "<Figure size 432x288 with 1 Axes>"
      ]
     },
     "metadata": {
      "needs_background": "light"
     },
     "output_type": "display_data"
    }
   ],
   "source": [
    "plt.plot([math.degrees(i) for i in theta_mas], res_subs, label='Solutions')\n"
   ]
  },
  {
   "cell_type": "code",
   "execution_count": 239,
   "metadata": {},
   "outputs": [
    {
     "data": {
      "text/plain": [
       "34.37746770784939"
      ]
     },
     "execution_count": 239,
     "metadata": {},
     "output_type": "execute_result"
    }
   ],
   "source": [
    "math.degrees(0.6)"
   ]
  },
  {
   "cell_type": "code",
   "execution_count": 275,
   "metadata": {},
   "outputs": [],
   "source": [
    "# Посмотрим как ведут сеюя бэты\n",
    "beta3_subs = []\n",
    "for i in d3_mas:\n",
    "    beta3_subs.append(beta3.subs([(eps3, n[3]**2), (n1, n[1]), (teta_res, tetha_SPR), (wl, calc_wl), (d3, i)]))\n",
    "beta4_subs = []\n",
    "for i in d3_mas:\n",
    "    beta4_subs.append(beta4.subs([(eps4, n[4]**2), (n1, n[1]), (teta_res, tetha_SPR), (wl, calc_wl), (d4, i)]))"
   ]
  },
  {
   "cell_type": "code",
   "execution_count": 281,
   "metadata": {},
   "outputs": [
    {
     "data": {
      "text/html": [
       "<div>\n",
       "<style scoped>\n",
       "    .dataframe tbody tr th:only-of-type {\n",
       "        vertical-align: middle;\n",
       "    }\n",
       "\n",
       "    .dataframe tbody tr th {\n",
       "        vertical-align: top;\n",
       "    }\n",
       "\n",
       "    .dataframe thead th {\n",
       "        text-align: right;\n",
       "    }\n",
       "</style>\n",
       "<table border=\"1\" class=\"dataframe\">\n",
       "  <thead>\n",
       "    <tr style=\"text-align: right;\">\n",
       "      <th></th>\n",
       "      <th>d_var</th>\n",
       "      <th>beta3</th>\n",
       "      <th>beta4</th>\n",
       "    </tr>\n",
       "  </thead>\n",
       "  <tbody>\n",
       "    <tr>\n",
       "      <th>0</th>\n",
       "      <td>4.500000e-08</td>\n",
       "      <td>1.76060578596470</td>\n",
       "      <td>0.947845118972946</td>\n",
       "    </tr>\n",
       "    <tr>\n",
       "      <th>1</th>\n",
       "      <td>4.550000e-08</td>\n",
       "      <td>1.78016807247542</td>\n",
       "      <td>0.958376731405979</td>\n",
       "    </tr>\n",
       "    <tr>\n",
       "      <th>2</th>\n",
       "      <td>4.600000e-08</td>\n",
       "      <td>1.79973035898614</td>\n",
       "      <td>0.968908343839012</td>\n",
       "    </tr>\n",
       "    <tr>\n",
       "      <th>3</th>\n",
       "      <td>4.650000e-08</td>\n",
       "      <td>1.81929264549686</td>\n",
       "      <td>0.979439956272045</td>\n",
       "    </tr>\n",
       "    <tr>\n",
       "      <th>4</th>\n",
       "      <td>4.700000e-08</td>\n",
       "      <td>1.83885493200758</td>\n",
       "      <td>0.989971568705077</td>\n",
       "    </tr>\n",
       "    <tr>\n",
       "      <th>5</th>\n",
       "      <td>4.750000e-08</td>\n",
       "      <td>1.85841721851830</td>\n",
       "      <td>1.00050318113811</td>\n",
       "    </tr>\n",
       "    <tr>\n",
       "      <th>6</th>\n",
       "      <td>4.800000e-08</td>\n",
       "      <td>1.87797950502902</td>\n",
       "      <td>1.01103479357114</td>\n",
       "    </tr>\n",
       "    <tr>\n",
       "      <th>7</th>\n",
       "      <td>4.850000e-08</td>\n",
       "      <td>1.89754179153974</td>\n",
       "      <td>1.02156640600418</td>\n",
       "    </tr>\n",
       "    <tr>\n",
       "      <th>8</th>\n",
       "      <td>4.900000e-08</td>\n",
       "      <td>1.91710407805046</td>\n",
       "      <td>1.03209801843721</td>\n",
       "    </tr>\n",
       "    <tr>\n",
       "      <th>9</th>\n",
       "      <td>4.950000e-08</td>\n",
       "      <td>1.93666636456117</td>\n",
       "      <td>1.04262963087024</td>\n",
       "    </tr>\n",
       "    <tr>\n",
       "      <th>10</th>\n",
       "      <td>5.000000e-08</td>\n",
       "      <td>1.95622865107189</td>\n",
       "      <td>1.05316124330327</td>\n",
       "    </tr>\n",
       "    <tr>\n",
       "      <th>11</th>\n",
       "      <td>5.050000e-08</td>\n",
       "      <td>1.97579093758261</td>\n",
       "      <td>1.06369285573631</td>\n",
       "    </tr>\n",
       "    <tr>\n",
       "      <th>12</th>\n",
       "      <td>5.100000e-08</td>\n",
       "      <td>1.99535322409333</td>\n",
       "      <td>1.07422446816934</td>\n",
       "    </tr>\n",
       "    <tr>\n",
       "      <th>13</th>\n",
       "      <td>5.150000e-08</td>\n",
       "      <td>2.01491551060405</td>\n",
       "      <td>1.08475608060237</td>\n",
       "    </tr>\n",
       "    <tr>\n",
       "      <th>14</th>\n",
       "      <td>5.200000e-08</td>\n",
       "      <td>2.03447779711477</td>\n",
       "      <td>1.09528769303540</td>\n",
       "    </tr>\n",
       "    <tr>\n",
       "      <th>15</th>\n",
       "      <td>5.250000e-08</td>\n",
       "      <td>2.05404008362549</td>\n",
       "      <td>1.10581930546844</td>\n",
       "    </tr>\n",
       "    <tr>\n",
       "      <th>16</th>\n",
       "      <td>5.300000e-08</td>\n",
       "      <td>2.07360237013621</td>\n",
       "      <td>1.11635091790147</td>\n",
       "    </tr>\n",
       "    <tr>\n",
       "      <th>17</th>\n",
       "      <td>5.350000e-08</td>\n",
       "      <td>2.09316465664693</td>\n",
       "      <td>1.12688253033450</td>\n",
       "    </tr>\n",
       "    <tr>\n",
       "      <th>18</th>\n",
       "      <td>5.400000e-08</td>\n",
       "      <td>2.11272694315765</td>\n",
       "      <td>1.13741414276754</td>\n",
       "    </tr>\n",
       "    <tr>\n",
       "      <th>19</th>\n",
       "      <td>5.450000e-08</td>\n",
       "      <td>2.13228922966836</td>\n",
       "      <td>1.14794575520057</td>\n",
       "    </tr>\n",
       "    <tr>\n",
       "      <th>20</th>\n",
       "      <td>5.500000e-08</td>\n",
       "      <td>2.15185151617908</td>\n",
       "      <td>1.15847736763360</td>\n",
       "    </tr>\n",
       "    <tr>\n",
       "      <th>21</th>\n",
       "      <td>5.550000e-08</td>\n",
       "      <td>2.17141380268980</td>\n",
       "      <td>1.16900898006663</td>\n",
       "    </tr>\n",
       "    <tr>\n",
       "      <th>22</th>\n",
       "      <td>5.600000e-08</td>\n",
       "      <td>2.19097608920052</td>\n",
       "      <td>1.17954059249967</td>\n",
       "    </tr>\n",
       "    <tr>\n",
       "      <th>23</th>\n",
       "      <td>5.650000e-08</td>\n",
       "      <td>2.21053837571124</td>\n",
       "      <td>1.19007220493270</td>\n",
       "    </tr>\n",
       "    <tr>\n",
       "      <th>24</th>\n",
       "      <td>5.700000e-08</td>\n",
       "      <td>2.23010066222196</td>\n",
       "      <td>1.20060381736573</td>\n",
       "    </tr>\n",
       "    <tr>\n",
       "      <th>25</th>\n",
       "      <td>5.750000e-08</td>\n",
       "      <td>2.24966294873268</td>\n",
       "      <td>1.21113542979877</td>\n",
       "    </tr>\n",
       "    <tr>\n",
       "      <th>26</th>\n",
       "      <td>5.800000e-08</td>\n",
       "      <td>2.26922523524340</td>\n",
       "      <td>1.22166704223180</td>\n",
       "    </tr>\n",
       "    <tr>\n",
       "      <th>27</th>\n",
       "      <td>5.850000e-08</td>\n",
       "      <td>2.28878752175412</td>\n",
       "      <td>1.23219865466483</td>\n",
       "    </tr>\n",
       "    <tr>\n",
       "      <th>28</th>\n",
       "      <td>5.900000e-08</td>\n",
       "      <td>2.30834980826483</td>\n",
       "      <td>1.24273026709786</td>\n",
       "    </tr>\n",
       "    <tr>\n",
       "      <th>29</th>\n",
       "      <td>5.950000e-08</td>\n",
       "      <td>2.32791209477555</td>\n",
       "      <td>1.25326187953090</td>\n",
       "    </tr>\n",
       "  </tbody>\n",
       "</table>\n",
       "</div>"
      ],
      "text/plain": [
       "           d_var             beta3              beta4\n",
       "0   4.500000e-08  1.76060578596470  0.947845118972946\n",
       "1   4.550000e-08  1.78016807247542  0.958376731405979\n",
       "2   4.600000e-08  1.79973035898614  0.968908343839012\n",
       "3   4.650000e-08  1.81929264549686  0.979439956272045\n",
       "4   4.700000e-08  1.83885493200758  0.989971568705077\n",
       "5   4.750000e-08  1.85841721851830   1.00050318113811\n",
       "6   4.800000e-08  1.87797950502902   1.01103479357114\n",
       "7   4.850000e-08  1.89754179153974   1.02156640600418\n",
       "8   4.900000e-08  1.91710407805046   1.03209801843721\n",
       "9   4.950000e-08  1.93666636456117   1.04262963087024\n",
       "10  5.000000e-08  1.95622865107189   1.05316124330327\n",
       "11  5.050000e-08  1.97579093758261   1.06369285573631\n",
       "12  5.100000e-08  1.99535322409333   1.07422446816934\n",
       "13  5.150000e-08  2.01491551060405   1.08475608060237\n",
       "14  5.200000e-08  2.03447779711477   1.09528769303540\n",
       "15  5.250000e-08  2.05404008362549   1.10581930546844\n",
       "16  5.300000e-08  2.07360237013621   1.11635091790147\n",
       "17  5.350000e-08  2.09316465664693   1.12688253033450\n",
       "18  5.400000e-08  2.11272694315765   1.13741414276754\n",
       "19  5.450000e-08  2.13228922966836   1.14794575520057\n",
       "20  5.500000e-08  2.15185151617908   1.15847736763360\n",
       "21  5.550000e-08  2.17141380268980   1.16900898006663\n",
       "22  5.600000e-08  2.19097608920052   1.17954059249967\n",
       "23  5.650000e-08  2.21053837571124   1.19007220493270\n",
       "24  5.700000e-08  2.23010066222196   1.20060381736573\n",
       "25  5.750000e-08  2.24966294873268   1.21113542979877\n",
       "26  5.800000e-08  2.26922523524340   1.22166704223180\n",
       "27  5.850000e-08  2.28878752175412   1.23219865466483\n",
       "28  5.900000e-08  2.30834980826483   1.24273026709786\n",
       "29  5.950000e-08  2.32791209477555   1.25326187953090"
      ]
     },
     "execution_count": 281,
     "metadata": {},
     "output_type": "execute_result"
    }
   ],
   "source": [
    "beta_test = pd.DataFrame({'d_var' : d3_mas, 'beta3' : beta3_subs, 'beta4' : beta4_subs})\n",
    "beta_test"
   ]
  },
  {
   "cell_type": "code",
   "execution_count": 282,
   "metadata": {},
   "outputs": [
    {
     "data": {
      "text/plain": [
       "[<matplotlib.lines.Line2D at 0x12fb98810>]"
      ]
     },
     "execution_count": 282,
     "metadata": {},
     "output_type": "execute_result"
    },
    {
     "data": {
      "image/png": "[encoded data removed]",
      "text/plain": [
       "<Figure size 432x288 with 1 Axes>"
      ]
     },
     "metadata": {
      "needs_background": "light"
     },
     "output_type": "display_data"
    }
   ],
   "source": [
    "plt.plot(beta_test['d_var'], beta_test['beta3'], label='Beta 3')\n",
    "plt.plot(beta_test['d_var'], beta_test['beta4'], label='Beta 4')"
   ]
  },
  {
   "cell_type": "code",
   "execution_count": null,
   "metadata": {},
   "outputs": [],
   "source": []
  }
 ],
 "metadata": {
  "kernelspec": {
   "display_name": "Python 3",
   "language": "python",
   "name": "python3"
  },
  "language_info": {
   "codemirror_mode": {
    "name": "ipython",
    "version": 3
   },
   "file_extension": ".py",
   "mimetype": "text/x-python",
   "name": "python",
   "nbconvert_exporter": "python",
   "pygments_lexer": "ipython3",
   "version": "3.7.4"
  }
 },
 "nbformat": 4,
 "nbformat_minor": 4
}
