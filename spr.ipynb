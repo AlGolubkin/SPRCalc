{
 "cells": [
  {
   "cell_type": "code",
   "execution_count": 62,
   "metadata": {},
   "outputs": [],
   "source": [
    "import sympy as sym\n",
    "import pandas as pd\n",
    "import numpy as np\n",
    "import cmath\n",
    "import math\n",
    "import matplotlib.pyplot as plt"
   ]
  },
  {
   "cell_type": "code",
   "execution_count": 84,
   "metadata": {},
   "outputs": [],
   "source": [
    "PI = cmath.pi\n",
    "i = complex(0, 1)\n",
    "\n",
    "Lambda = 400e-9\n",
    "\n",
    "theta_list = np.array(range(int(math.radians(0) * 1000), int(math.radians(90) * 1000))) / 1000\n",
    "\n",
    "miu = [1, 1, 1, 1, 1, 1]                                                               \n",
    "                                                                     \n",
    "d2, d3, d4 = 50e-9, 50.34e-9, 50.9e-9    \n",
    "\n",
    "I_list = []\n",
    "\n",
    "for theta in theta_list:\n",
    "\n",
    "#     n1 = 1.52956867224\n",
    "#     n2 = 0.05\n",
    "#     n3 = 2.863\n",
    "#     n4 = 1.755\n",
    "#     n5 = 1.0\n",
    "\n",
    "    n1 = 1.54\n",
    "    n2 = 0.05\n",
    "    n3 = 2.756\n",
    "    n4 = 1.7855131978094\n",
    "    n5 = 1.0\n",
    "\n",
    "    eps1 = n1 ** 2\n",
    "    eps2 = n2 ** 2\n",
    "    eps3 = n3 ** 2\n",
    "    eps4 = n4 ** 2\n",
    "    eps5 = n5 ** 2\n",
    "    \n",
    "    q1 = (eps1 - (n1 ** 2) * (cmath.sin(theta) ** 2)) ** 0.5 / eps1\n",
    "    q2 = (eps2 - (n1 ** 2) * (cmath.sin(theta) ** 2)) ** 0.5 / eps2\n",
    "    q3 = (eps3 - (n1 ** 2) * (cmath.sin(theta) ** 2)) ** 0.5 / eps3\n",
    "    q4 = (eps4 - (n1 ** 2) * (cmath.sin(theta) ** 2)) ** 0.5 / eps4\n",
    "    q5 = (eps5 - (n1 ** 2) * (cmath.sin(theta) ** 2)) ** 0.5 / eps5\n",
    "\n",
    "\n",
    "    beta2 = (2 * PI * d2 / Lambda) * (eps2 - (n1 ** 2) * cmath.sin(theta) ** 2) ** 0.5\n",
    "    beta3 = (2 * PI * d3 / Lambda) * (eps3 - (n1 ** 2) * cmath.sin(theta) ** 2) ** 0.5\n",
    "    beta4 = (2 * PI * d4 / Lambda) * (eps4 - (n1 ** 2) * cmath.sin(theta) ** 2) ** 0.5\n",
    "\n",
    "    M2 = np.array([[cmath.cos(beta2), - i * cmath.sin(beta2 / q2)], [- i * q2 * cmath.sin(beta2), cmath.cos(beta2)]])\n",
    "    M3 = np.array([[cmath.cos(beta3), - i * cmath.sin(beta3 / q3)], [- i * q3 * cmath.sin(beta3), cmath.cos(beta3)]])\n",
    "    M4 = np.array([[cmath.cos(beta4), - i * cmath.sin(beta4 / q4)], [- i * q3 * cmath.sin(beta4), cmath.cos(beta4)]])\n",
    "\n",
    "    M = M2 * M3 * M4\n",
    "\n",
    "    M11 = M[0][0]\n",
    "    M12 = M[0][1]\n",
    "    M21 = M[1][0]\n",
    "    M22 = M[1][1]\n",
    "    \n",
    "    I_list.append(abs((M11 + M12 * q5) * q1 - (M21 + M22 * q5) / (M11 + M12 * q5) * q1 + (M21 + M22 * q5)) ** 2)"
   ]
  },
  {
   "cell_type": "code",
   "execution_count": 85,
   "metadata": {},
   "outputs": [
    {
     "data": {
      "text/plain": [
       "[<matplotlib.lines.Line2D at 0x1c47142af88>]"
      ]
     },
     "execution_count": 85,
     "metadata": {},
     "output_type": "execute_result"
    },
    {
     "data": {
      "image/png": "[encoded data removed]",
      "text/plain": [
       "<Figure size 432x288 with 1 Axes>"
      ]
     },
     "metadata": {
      "needs_background": "light"
     },
     "output_type": "display_data"
    }
   ],
   "source": [
    "degree_list = [math.degrees(j) for j in theta_list]\n",
    "plt.plot(degree_list, I_list)"
   ]
  },
  {
   "cell_type": "code",
   "execution_count": 86,
   "metadata": {},
   "outputs": [
    {
     "data": {
      "text/plain": [
       "877    50.248399\n",
       "Name: theta, dtype: float64"
      ]
     },
     "execution_count": 86,
     "metadata": {},
     "output_type": "execute_result"
    }
   ],
   "source": [
    "data = pd.DataFrame({'theta': degree_list, 'I': I_list})\n",
    "r1 = data['I'].max()\n",
    "data['max'] = r1\n",
    "data['theta'][data['I'] == r1]"
   ]
  },
  {
   "cell_type": "code",
   "execution_count": null,
   "metadata": {},
   "outputs": [],
   "source": []
  }
 ],
 "metadata": {
  "kernelspec": {
   "display_name": "Python 3",
   "language": "python",
   "name": "python3"
  },
  "language_info": {
   "codemirror_mode": {
    "name": "ipython",
    "version": 3
   },
   "file_extension": ".py",
   "mimetype": "text/x-python",
   "name": "python",
   "nbconvert_exporter": "python",
   "pygments_lexer": "ipython3",
   "version": "3.7.7"
  }
 },
 "nbformat": 4,
 "nbformat_minor": 4
}
